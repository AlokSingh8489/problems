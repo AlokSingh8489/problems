{
 "cells": [
  {
   "cell_type": "code",
   "execution_count": null,
   "id": "696185dd-7a54-4d27-b38a-28e2d9b07327",
   "metadata": {},
   "outputs": [],
   "source": [
    "'''\n",
    "Given an array of numbers, rearrange them in-place so that even numbers appear before odd ones.\n",
    "\n",
    "Example\n",
    "{\n",
    "\"numbers\": [1, 2, 3, 4]\n",
    "}\n",
    "Output:\n",
    "\n",
    "[4, 2, 3, 1]\n",
    "The order within the group of even numbers does not matter; same with odd numbers. So the following are also correct outputs:\n",
    "[4, 2, 1, 3], [2, 4, 1, 3], [2, 4, 3, 1].\n",
    "\n",
    "Notes\n",
    "It is important to practice solving this problem by rearranging numbers in-place.\n",
    "There is no need to preserve the original order within the even and within the odd numbers.\n",
    "We look for a solution of the linear time complexity that uses constant auxiliary space.\n",
    "'''\n",
    "\n",
    "def segregate_evens_and_odds(a):\n",
    "    \"\"\"\n",
    "    Args:\n",
    "     numbers(list_int32)\n",
    "    Returns:\n",
    "     list_int32\n",
    "    \"\"\"\n",
    "    n=len(a)\n",
    "    odd_idx=n-1\n",
    "    i=0\n",
    "    #print (f'odd_idx {odd_idx} i is {i}')\n",
    "    while odd_idx >=0 and i<=odd_idx:\n",
    "        if a[i]%2==1:\n",
    "            a[odd_idx],a[i]=(a[i],a[odd_idx])\n",
    "            odd_idx-=1\n",
    "            #print(f'odd found odd_idx-{odd_idx}  a- {a} ')\n",
    "        else:\n",
    "            i+=1\n",
    "            #print(f'even found i- {i}  a- {a} ')\n",
    "    #print(a)        \n",
    "    # Write your code here.\n",
    "    return a\n",
    "a= [4, 9, 5, 2, 9, 5, 7, 10]\n",
    "print(f'Array is {a} after segregate_evens_and_odds array is- {segregate_evens_and_odds(a)}')"
   ]
  }
 ],
 "metadata": {
  "kernelspec": {
   "display_name": "Python 3 (ipykernel)",
   "language": "python",
   "name": "python3"
  },
  "language_info": {
   "codemirror_mode": {
    "name": "ipython",
    "version": 3
   },
   "file_extension": ".py",
   "mimetype": "text/x-python",
   "name": "python",
   "nbconvert_exporter": "python",
   "pygments_lexer": "ipython3",
   "version": "3.10.11"
  }
 },
 "nbformat": 4,
 "nbformat_minor": 5
}
