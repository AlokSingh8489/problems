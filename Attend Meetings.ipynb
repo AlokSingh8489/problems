{
 "cells": [
  {
   "cell_type": "code",
   "execution_count": 8,
   "id": "4ee3b0f3-f102-477d-8bce-0430542bdc8a",
   "metadata": {},
   "outputs": [
    {
     "name": "stdout",
     "output_type": "stream",
     "text": [
      "1 3 [(0, [1, 5]), (1, [4, 8]), (2, [10, 15])]\n"
     ]
    },
    {
     "ename": "NameError",
     "evalue": "name 'endtime' is not defined",
     "output_type": "error",
     "traceback": [
      "\u001b[1;31m---------------------------------------------------------------------------\u001b[0m",
      "\u001b[1;31mNameError\u001b[0m                                 Traceback (most recent call last)",
      "Cell \u001b[1;32mIn [8], line 40\u001b[0m\n\u001b[0;32m     38\u001b[0m \u001b[38;5;28;01mfor\u001b[39;00m i \u001b[38;5;129;01min\u001b[39;00m \u001b[38;5;28mrange\u001b[39m(\u001b[38;5;241m0\u001b[39m,\u001b[38;5;28mlen\u001b[39m(intervals)):\n\u001b[0;32m     39\u001b[0m     endtime_firstmeet\u001b[38;5;241m=\u001b[39mintervals[i][\u001b[38;5;241m1\u001b[39m]\n\u001b[1;32m---> 40\u001b[0m     \u001b[38;5;28mprint\u001b[39m(\u001b[38;5;124m'\u001b[39m\u001b[38;5;124met\u001b[39m\u001b[38;5;124m'\u001b[39m,\u001b[43mendtime\u001b[49m)\n\u001b[0;32m     41\u001b[0m     \u001b[38;5;28;01mfor\u001b[39;00m j \u001b[38;5;129;01min\u001b[39;00m \u001b[38;5;28mrange\u001b[39m(i\u001b[38;5;241m+\u001b[39m\u001b[38;5;241m1\u001b[39m,\u001b[38;5;28mlen\u001b[39m(intervals)):\n\u001b[0;32m     42\u001b[0m         starttime2_secondmeet\u001b[38;5;241m=\u001b[39mintervals[j][\u001b[38;5;241m0\u001b[39m]\n",
      "\u001b[1;31mNameError\u001b[0m: name 'endtime' is not defined"
     ]
    }
   ],
   "source": [
    "'''\n",
    "Attend Meetings\n",
    "Given a list of meeting intervals where each interval consists of a start and an end time,\n",
    "check if a person can attend all the given meetings such that only one meeting can be attended at a time.\n",
    "\n",
    "Example One\n",
    "{\n",
    "\"intervals\": [\n",
    "[1, 5],\n",
    "[5, 8],\n",
    "[10, 15]\n",
    "]\n",
    "}\n",
    "Output:\n",
    "\n",
    "1\n",
    "As the above intervals are non-overlapping intervals, it means a person can attend all these meetings.\n",
    "\n",
    "Example Two\n",
    "{\n",
    "\"intervals\": [\n",
    "[1, 5],\n",
    "[4, 8]\n",
    "]\n",
    "}\n",
    "Output:\n",
    "\n",
    "0\n",
    "Time 4 - 5 is overlapping in the first and second intervals.\n",
    "'''\n",
    "#end time of each is bigger than any start time retrun false --works ony if inputs are sorted\n",
    "\n",
    "intervals=([1, 5],[4, 8],[10, 15])\n",
    "\n",
    "print(intervals[0][0],len(intervals),list(enumerate(intervals)))\n",
    "\n",
    "ispossible='none'\n",
    "for i in range(0,len(intervals)):\n",
    "    endtime_firstmeet=intervals[i][1]\n",
    "    print('et',endtime)\n",
    "    for j in range(i+1,len(intervals)):\n",
    "        starttime2_secondmeet=intervals[j][0]\n",
    "        if starttime2_secondmeet<endtime_firstmeet:\n",
    "            ispossible='false'\n",
    "            print('overlapmeeting-ispossible-',ispossible)\n",
    "            \n",
    "if ispossible!='false':\n",
    "    ispossible='true'\n",
    "    print(ispossible)\n",
    "\n",
    "        \n",
    "\n",
    "\n"
   ]
  },
  {
   "cell_type": "code",
   "execution_count": 18,
   "id": "c9664c61-11e9-444d-89e3-392ec13ebbc2",
   "metadata": {},
   "outputs": [
    {
     "name": "stdout",
     "output_type": "stream",
     "text": [
      "[[1, 5], [5, 8], [9, 34], [10, 15]]\n",
      "ef 5 i is- 0\n",
      "ss 5 i is 0 j is 1\n",
      "ss 9 i is 0 j is 2\n",
      "ss 10 i is 0 j is 3\n",
      "ef 8 i is- 1\n",
      "ss 9 i is 1 j is 2\n",
      "ss 10 i is 1 j is 3\n",
      "ef 34 i is- 2\n",
      "ss 10 i is 2 j is 3\n"
     ]
    },
    {
     "data": {
      "text/plain": [
       "'not possible'"
      ]
     },
     "execution_count": 18,
     "metadata": {},
     "output_type": "execute_result"
    }
   ],
   "source": [
    "\n",
    "def can_attend_all_meetings(intervals):\n",
    "    \"\"\"\n",
    "    Args:\n",
    "     intervals(list_list_int32)\n",
    "    Returns:\n",
    "     int32\n",
    "    \"\"\"\n",
    "    # Write your code here.\n",
    "    \n",
    "    \n",
    "    #print(intervals,intervals[0][1])\n",
    "    intervals.sort()\n",
    "    print(intervals)\n",
    "    for i in range(0,len(intervals)):\n",
    "        endtime_firstmeet=intervals[i][1]\n",
    "        print('ef',endtime_firstmeet,'i is-',i)\n",
    "        \n",
    "        for j in range(i+1,len(intervals)):\n",
    "            starttime2_secondmeet=intervals[j][0]\n",
    "            print('ss',starttime2_secondmeet,'i is',i,'j is',j)\n",
    "            if starttime2_secondmeet<endtime_firstmeet:\n",
    "          #      print('hi',starttime2_secondmeet,endtime_firstmeet)\n",
    "                return 'not possible'\n",
    "                 \n",
    "                \n",
    "                #print('overlapmeeting-ispossible-',ispossible)\n",
    "                \n",
    "\n",
    "    return 'possible'\n",
    "\n",
    "intervals=[[1, 5],[5, 8],[10, 15],[9,34]]\n",
    "\n",
    "can_attend_all_meetings(intervals)\n",
    "\n"
   ]
  },
  {
   "cell_type": "code",
   "execution_count": 40,
   "id": "807fbc24-bacc-423b-9ea1-8fa1151ae076",
   "metadata": {},
   "outputs": [
    {
     "name": "stdout",
     "output_type": "stream",
     "text": [
      "i,j is (0, 1) start_time_of_second-5  end_time_of_first-5\n",
      "i,j is (1, 2) start_time_of_second-10  end_time_of_first-8\n",
      "i,j is (2, 3) start_time_of_second-16  end_time_of_first-15\n",
      "i,j is (3, 4) start_time_of_second-22  end_time_of_first-23\n"
     ]
    },
    {
     "data": {
      "text/plain": [
       "'not possible'"
      ]
     },
     "execution_count": 40,
     "metadata": {},
     "output_type": "execute_result"
    }
   ],
   "source": [
    "\n",
    "def can_attend_all_meetings(intervals):\n",
    "    \"\"\"\n",
    "    Args:\n",
    "     intervals(list_list_int32)\n",
    "    Returns:\n",
    "     int32\n",
    "    \"\"\"\n",
    "    # Write your code here.\n",
    "    \n",
    "    \n",
    "    #print(intervals,intervals[0][1])\n",
    "    #take 2 pointers, one for start anther for end, start pointer of 2nd should >= end pointer of 1st meeting\n",
    "    intervals.sort() #O(nlogn)\n",
    "    n=len(intervals)\n",
    "    i=0\n",
    "    j=1\n",
    "\n",
    "    while j<n:\n",
    "        start_time_of_second=intervals[j][0]\n",
    "        end_time_of_first=intervals[i][1]\n",
    "        print(f'i,j is {i,j} start_time_of_second-{start_time_of_second}  end_time_of_first-{end_time_of_first}')\n",
    "        if start_time_of_second>=end_time_of_first:\n",
    "            i+=1\n",
    "            j+=1\n",
    "        else:\n",
    "            return \"not possible\"\n",
    "        \n",
    "    return \"possible\"\n",
    "        \n",
    "    \n",
    "\n",
    "intervals=[[1, 5],[5, 8],[10, 15],[16,23],[22,45]]\n",
    "\n",
    "can_attend_all_meetings(intervals)\n",
    "\n"
   ]
  }
 ],
 "metadata": {
  "kernelspec": {
   "display_name": "Python 3 (ipykernel)",
   "language": "python",
   "name": "python3"
  },
  "language_info": {
   "codemirror_mode": {
    "name": "ipython",
    "version": 3
   },
   "file_extension": ".py",
   "mimetype": "text/x-python",
   "name": "python",
   "nbconvert_exporter": "python",
   "pygments_lexer": "ipython3",
   "version": "3.10.11"
  }
 },
 "nbformat": 4,
 "nbformat_minor": 5
}
