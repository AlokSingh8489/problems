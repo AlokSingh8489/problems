{
 "cells": [
  {
   "cell_type": "code",
   "execution_count": 1,
   "id": "f51aefaf-7d4c-4932-9c55-a8d8037de7f0",
   "metadata": {},
   "outputs": [
    {
     "data": {
      "text/plain": [
       "[3, 4]"
      ]
     },
     "execution_count": 1,
     "metadata": {},
     "output_type": "execute_result"
    }
   ],
   "source": [
    "#brute force\n",
    "def pair_sum_sorted_array(numbers, target):\n",
    "    \"\"\"\n",
    "    Args:\n",
    "     numbers(list_int32)\n",
    "     target(int32)\n",
    "    Returns:\n",
    "     list_int32\n",
    "     \n",
    "     Given an array sorted in non-decreasing order and a target number, \n",
    "     find the indices of the two values from the array that sum up to the given target number.\n",
    "\n",
    "Example\n",
    "{\n",
    "\"numbers\": [1, 2, 3, 5, 10],\n",
    "\"target\": 7\n",
    "}\n",
    "    \"\"\"\n",
    "    # below code is via brute force approach\n",
    "    \n",
    "  \n",
    "    n=len(numbers)\n",
    "    outarr=[]\n",
    "    \n",
    "    for i in range(0,n):\n",
    "        for j in range(i+1,n):\n",
    "            if numbers[j]+numbers[i]==target:\n",
    "                outarr.append(i)\n",
    "                outarr.append(j)\n",
    "                return outarr\n",
    "                break\n",
    "            \n",
    "    return [-1,-1]\n",
    "    \n",
    "numbers= [1, 2, 3, 5, 10]\n",
    "target=15\n",
    "\n",
    "pair_sum_sorted_array(numbers,target)\n"
   ]
  },
  {
   "cell_type": "code",
   "execution_count": 1,
   "id": "2dba239c-d286-4fe6-b224-b7f6ea6ee1ec",
   "metadata": {},
   "outputs": [
    {
     "name": "stdout",
     "output_type": "stream",
     "text": [
      "{1: 0, 2: 1, 3: 2, 5: 3}\n",
      "[4, 3]\n"
     ]
    }
   ],
   "source": [
    "#using hash table for unsorted\n",
    "# uses auxillary space because of dictionary time compxity is O(n) \n",
    "a= [1, 2, 3, 5, 10]\n",
    "target=15\n",
    "\n",
    "dict1={}\n",
    "out=[]\n",
    "#dict1={0:a[0]}\n",
    "for i in range(0,len(a)):\n",
    "    to_find = target-a[i]\n",
    "    if to_find in dict1:\n",
    "        out=[i,dict1[to_find]]\n",
    "    else: #insert item\n",
    "        dict1[a[i]]=i\n",
    "        \n",
    "print (dict1)\n",
    "print (out)\n"
   ]
  },
  {
   "cell_type": "code",
   "execution_count": 9,
   "id": "04f02db3-5fba-4c34-a970-13cb0f23f006",
   "metadata": {},
   "outputs": [
    {
     "name": "stdout",
     "output_type": "stream",
     "text": [
      "[1, 4]\n"
     ]
    }
   ],
   "source": [
    "#2 pointer apprach for already sorted array, takes O(n)\n",
    "# for each pass we're either incrementing i or decrementing j, max n elements wil be scanned.\n",
    "a= [1, 2, 3, 5, 10]\n",
    "target=12\n",
    "i=0\n",
    "j=len(a)-1\n",
    "out=[]\n",
    "while i<j:\n",
    "    if a[i]==target-a[j]:\n",
    "        out=[i,j]\n",
    "        print(out)\n",
    "        break\n",
    "    elif a[i]<target-a[j]:\n",
    "        i+=1\n",
    "    else:\n",
    "        j-=1\n",
    "if out==[] :\n",
    "    out= [-1,-1]        \n",
    "    print (out)"
   ]
  }
 ],
 "metadata": {
  "kernelspec": {
   "display_name": "Python 3 (ipykernel)",
   "language": "python",
   "name": "python3"
  },
  "language_info": {
   "codemirror_mode": {
    "name": "ipython",
    "version": 3
   },
   "file_extension": ".py",
   "mimetype": "text/x-python",
   "name": "python",
   "nbconvert_exporter": "python",
   "pygments_lexer": "ipython3",
   "version": "3.10.11"
  }
 },
 "nbformat": 4,
 "nbformat_minor": 5
}
