{
 "cells": [
  {
   "cell_type": "code",
   "execution_count": null,
   "id": "2ee33d3d-51ae-4208-a082-5b9d05d013b5",
   "metadata": {},
   "outputs": [],
   "source": [
    "'''Dutch National Flag\n",
    "Given some balls of three colors arranged in a line, rearrange them such that all the red balls go first, then green and then blue ones.\n",
    "Do rearrange the balls in place. A solution that simply counts colors and overwrites the array is not the one we are looking for.\n",
    "This is an important problem in search algorithms theory proposed by Dutch computer scientist Edsger Dijkstra. Dutch national flag has three colors \n",
    "(albeit different from ones used in this problem).\n",
    "\n",
    "Example\n",
    "\n",
    "{\n",
    "\"balls\": [\"G\", \"B\", \"G\", \"G\", \"R\", \"B\", \"R\", \"G\"]\n",
    "}\n",
    "Output:\n",
    "\n",
    "[\"R\", \"R\", \"G\", \"G\", \"G\", \"G\", \"B\", \"B\"]\n",
    "\n",
    "\n",
    "Constraints:\n",
    "\n",
    "1 <= n <= 100000\n",
    "Do this in ONE pass over the array, NOT TWO passes\n",
    "Solution is only allowed to use constant extra memory\n",
    "\n",
    "\n",
    "\n",
    "Using 2 pointer approach to solve.\n",
    "'''\n",
    "a= [\"G\", \"B\", \"G\", \"G\", \"R\", \"B\", \"R\", \"G\"]\n",
    "\n",
    "n=len(a)-1\n",
    "rp=0\n",
    "gp=0\n",
    "bp=n\n",
    "\n",
    "while gp<=bp:\n",
    "    print(f'iteration #-({gp})')\n",
    "    \n",
    "    if a[gp]=='R':\n",
    "        \n",
    "        a[gp],a[rp]=a[rp],a[gp]\n",
    "        print(f'red found #-({a[gp]}) ,swapped postion {gp} with green at postion{rp} a is {a}')\n",
    "        rp+=1\n",
    "        gp+=1\n",
    "              \n",
    "    elif a[gp]=='G':\n",
    "        print(f'green found no swap#-({a[gp]})  a is {a} ')\n",
    "        \n",
    "        gp+=1\n",
    "    else: #a[gp]= 'B'\n",
    "\n",
    "        a[gp],a[bp]=a[bp],a[gp] #swap with blue pointer\n",
    "        print(f'blue  found swapped postion {gp} with blue  at postion{bp} #-({a[gp]})  a is {a}')\n",
    "        bp-=1\n",
    "     \n",
    "print (a)    \n",
    "\n",
    "\n",
    "\n"
   ]
  },
  {
   "cell_type": "code",
   "execution_count": null,
   "id": "18e7cefc-d8b6-470c-928a-5c0d1ab7d436",
   "metadata": {},
   "outputs": [],
   "source": []
  }
 ],
 "metadata": {
  "kernelspec": {
   "display_name": "Python 3 (ipykernel)",
   "language": "python",
   "name": "python3"
  },
  "language_info": {
   "codemirror_mode": {
    "name": "ipython",
    "version": 3
   },
   "file_extension": ".py",
   "mimetype": "text/x-python",
   "name": "python",
   "nbconvert_exporter": "python",
   "pygments_lexer": "ipython3",
   "version": "3.10.11"
  }
 },
 "nbformat": 4,
 "nbformat_minor": 5
}
